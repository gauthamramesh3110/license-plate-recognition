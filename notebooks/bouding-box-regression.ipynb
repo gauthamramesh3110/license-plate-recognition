{
  "nbformat": 4,
  "nbformat_minor": 0,
  "metadata": {
    "accelerator": "GPU",
    "colab": {
      "name": "Bounding Box Regression.ipynb",
      "provenance": [],
      "collapsed_sections": [],
      "authorship_tag": "ABX9TyPCQgX9LPqkkB5JdSkz5tjv",
      "include_colab_link": true
    },
    "kernelspec": {
      "display_name": "Python 3",
      "name": "python3"
    }
  },
  "cells": [
    {
      "cell_type": "markdown",
      "metadata": {
        "id": "view-in-github",
        "colab_type": "text"
      },
      "source": [
        "<a href=\"https://colab.research.google.com/github/gauthamramesh3110/image_processing_scripts/blob/main/Bounding_Box_Regression.ipynb\" target=\"_parent\"><img src=\"https://colab.research.google.com/assets/colab-badge.svg\" alt=\"Open In Colab\"/></a>"
      ]
    },
    {
      "cell_type": "code",
      "metadata": {
        "colab": {
          "base_uri": "https://localhost:8080/"
        },
        "id": "9TmhxASALIDw",
        "outputId": "d00fbc70-6636-4057-eb9c-289ddd693fb5"
      },
      "source": [
        "from google.colab import drive\n",
        "import tensorflow as tf\n",
        "from tensorflow.keras.applications import VGG16\n",
        "from tensorflow.keras.applications.vgg16 import preprocess_input\n",
        "from tensorflow.keras.layers import Flatten, Dense, Input, Conv2D, MaxPooling2D, Dropout, LeakyReLU\n",
        "from tensorflow.keras.models import Model, Sequential\n",
        "from tensorflow.keras.optimizers import Adam\n",
        "from tensorflow.keras.activations import relu\n",
        "from tensorflow.keras.preprocessing.image import img_to_array, array_to_img\n",
        "from tensorflow.keras.preprocessing.image import load_img\n",
        "from sklearn.model_selection import train_test_split\n",
        "import matplotlib.pyplot as plt\n",
        "import numpy as np\n",
        "import cv2\n",
        "import os\n",
        "import xml.etree.ElementTree as et\n",
        "import keras.backend as K\n",
        "import pickle\n",
        "from tqdm import tqdm\n",
        "from google.colab.patches import cv2_imshow\n",
        "drive.mount('/content/drive')\n",
        "\n",
        "ROOT_DIR = '/content/drive/MyDrive/Datasets/license-plate-detection'\n",
        "IMG_DIMS = (224, 224, 3)\n",
        "OBJECTS = ['license_plate']"
      ],
      "execution_count": null,
      "outputs": [
        {
          "output_type": "stream",
          "text": [
            "Mounted at /content/drive\n"
          ],
          "name": "stdout"
        }
      ]
    },
    {
      "cell_type": "code",
      "metadata": {
        "id": "NuU6M-AdNRxo"
      },
      "source": [
        "!cp /content/drive/MyDrive/Datasets/license-plate-detection/archives/car.tar.xz /content\n",
        "!tar xf /content/drive/MyDrive/Datasets/license-plate-detection/archives/car.tar.xz"
      ],
      "execution_count": null,
      "outputs": []
    },
    {
      "cell_type": "code",
      "metadata": {
        "id": "HPLaoUk-_nwA",
        "colab": {
          "base_uri": "https://localhost:8080/"
        },
        "outputId": "662daa44-b5d2-49d6-c886-2750d0b64a5b"
      },
      "source": [
        "!rm -rf /content/license-plate-car-cropped/\n",
        "!rm /content/license-plate-car-cropped.tar.xz"
      ],
      "execution_count": null,
      "outputs": [
        {
          "output_type": "stream",
          "text": [
            "rm: cannot remove '/content/license-plate-car-cropped.tar.xz': No such file or directory\n"
          ],
          "name": "stdout"
        }
      ]
    },
    {
      "cell_type": "code",
      "metadata": {
        "id": "GiQqImZGLoZA"
      },
      "source": [
        "class helpers:\n",
        "  @staticmethod\n",
        "  def display_boxes(image, annotations):\n",
        "\n",
        "    if np.max(image) > 1:\n",
        "      image = np.array(image, dtype='uint8')\n",
        "\n",
        "    annotations = [[ int(i*IMG_DIMS[0]) for i in annotations ]]\n",
        "    for annotation in annotations:\n",
        "      top_left = (annotation[0], annotation[1])\n",
        "      bottom_right = (annotation[2], annotation[3])\n",
        "      image = cv2.rectangle(image, top_left, bottom_right, (255, 0, 0), 2)\n",
        "    plt.imshow(image)\n",
        "    print()\n",
        "  \n",
        "  @staticmethod\n",
        "  def pad_and_resize(image, toggle, output):\n",
        "    [xmin, ymin, w, h] = output\n",
        "\n",
        "    height = image.shape[0]\n",
        "    width = image.shape[1]\n",
        "\n",
        "    vertical_padding = max(0, width-height)\n",
        "    horizontal_padding = max(0, height-width)\n",
        "\n",
        "    top = vertical_padding if toggle else 0\n",
        "    bottom = vertical_padding if not toggle else 0\n",
        "    left = horizontal_padding if toggle else 0\n",
        "    right = horizontal_padding if not toggle else 0\n",
        "\n",
        "    image = cv2.copyMakeBorder(image, top, bottom, left, right, cv2.BORDER_CONSTANT)\n",
        "    image = cv2.resize(image, IMG_DIMS[:2])\n",
        "\n",
        "    xmin += left\n",
        "    ymin += top\n",
        "\n",
        "    output = [xmin, ymin, w, h]\n",
        "    output = np.array(output) / max(width, height)\n",
        "\n",
        "    return image, output\n",
        "\n",
        "  @staticmethod\n",
        "  def save_pickle(data, filename):\n",
        "    if os.path.exists(filename):\n",
        "      os.remove(filename)\n",
        "    file = open(filename, 'wb')\n",
        "    pickle.dump(data, file)\n",
        "    file.close()\n",
        "\n",
        "  @staticmethod\n",
        "  def load_pickle(filename):\n",
        "    file = open(filename, 'rb')\n",
        "    data = pickle.load(file)\n",
        "    file.close()\n",
        "    return data\n",
        "\n",
        "  @staticmethod\n",
        "  def get_output_list(annotation_filepath):\n",
        "    annotation_file = open(annotation_filepath, 'r')\n",
        "    annotations = annotation_file.read()\n",
        "    annotations = annotations.split(' ')\n",
        "\n",
        "\n",
        "    image_filename = annotations[0]\n",
        "    image_width = int(annotations[1])\n",
        "    image_height = int(annotations[2])\n",
        "    \n",
        "    [xmin, ymin, xmax, ymax] = list(map(int, annotations[3:]))\n",
        "\n",
        "    xmin /= image_width\n",
        "    ymin /= image_height\n",
        "    xmax /= image_width\n",
        "    ymax /= image_height\n",
        "\n",
        "    return image_filename, [xmin, ymin, xmax, ymax]\n",
        "\n",
        "  @staticmethod\n",
        "  def get_mirror(image, output):\n",
        "    image = cv2.flip(image, 1)\n",
        "    [xmin, ymin, xmax, ymax] = output\n",
        "    xmin_new = 1 - xmax\n",
        "    xmax_new = 1 - xmin\n",
        "    return image, [xmin_new, ymin, xmax_new, ymax]\n",
        "\n",
        "  @staticmethod\n",
        "  def get_annotations(annotation_filepath, objects):\n",
        "\n",
        "    # GET XML TREE AND ROOT NODE\n",
        "    tree = et.parse(annotation_filepath)\n",
        "    root = tree.getroot()\n",
        "\n",
        "    # GET IMAGE DIMENSIONS\n",
        "    image_width = int( root.find('./size/width').text )\n",
        "    image_height = int( root.find('./size/height').text )\n",
        "\n",
        "    # GET IMAGE FILENAME\n",
        "    image_filename = root.find('./filename').text\n",
        "\n",
        "    # ANNOTATION STORAGE DICTIONARY\n",
        "    annotations = dict()\n",
        "\n",
        "    # LOOP THROUGH ALL OBJECTS IN FILE AND ADD BBOX DIMENSIONS TO ANNOTATIONS DICTIONARY\n",
        "    for annotation in root.findall('./object'):\n",
        "      name = annotation.find('./name').text # NAME OF THE OBJECT\n",
        "\n",
        "      # TRANSFORM THE COORDINATES INTO RATIOS WITH RESPECT TO THE CORRESPONDING DIMENSION\n",
        "      xmin =  int( annotation.find('./bndbox/xmin').text ) \n",
        "      ymin =  int( annotation.find('./bndbox/ymin').text ) \n",
        "      xmax =  int( annotation.find('./bndbox/xmax').text ) \n",
        "      ymax =  int( annotation.find('./bndbox/ymax').text )\n",
        "\n",
        "      # SAVE TO DICTIONARY\n",
        "      annotations[name] = [xmin, ymin, xmax, ymax]\n",
        "    \n",
        "    # GENERATE AN OUTPUT ARRAY CONSISTING ONLY OF THE MENTIONED OBJECTS\n",
        "    output = []\n",
        "    for object_name in objects:\n",
        "      output += annotations[object_name]\n",
        "\n",
        "    return image_filename, output "
      ],
      "execution_count": null,
      "outputs": []
    },
    {
      "cell_type": "code",
      "metadata": {
        "id": "SmRPkSRoMGEh"
      },
      "source": [
        "def get_data(annotations_dirpath, image_dirpath, objects, generate_new, data_filename):\n",
        "\n",
        "  if not generate_new:\n",
        "    return helpers.load_pickle(data_filename)\n",
        "\n",
        "  X = []\n",
        "  y = []\n",
        "  toggle = False\n",
        "\n",
        "  for annotation_filename in tqdm(os.listdir(annotations_dirpath)):\n",
        "\n",
        "\n",
        "    # GENERATE ANNOTATION FILEPATH\n",
        "    annotation_filepath = os.path.join(annotations_dirpath, annotation_filename)\n",
        "\n",
        "\n",
        "    # GET IMAGE FILENAME AND OUTPUT LIST\n",
        "    # image_filename, output = helpers.get_annotations(annotation_filepath, objects)\n",
        "    image_filename, output = helpers.get_output_list(annotation_filepath)\n",
        "    # print('check')\n",
        "    # continue\n",
        "\n",
        "    # GENERATE IMAGE FILEPATH\n",
        "    image_filepath = os.path.join(image_dirpath, image_filename)\n",
        "\n",
        "    # READ IMAGE\n",
        "    image = load_img(image_filepath, target_size=IMG_DIMS[:2])\n",
        "    # image = cv2.imread(image_filepath, cv2.IMREAD_COLOR)\n",
        "\n",
        "    # CONVERT IMAGE TO ARRAY\n",
        "    image = img_to_array(image)\n",
        "    # image, output = helpers.pad_and_resize(image, toggle, output)\n",
        "    # toggle = !toggle\n",
        "\n",
        "    X.append(image)\n",
        "    y.append(output)\n",
        "\n",
        "    image_mirror, output_mirror = helpers.get_mirror(image, output)\n",
        "\n",
        "    X.append(image_mirror)\n",
        "    y.append(output_mirror)\n",
        "  \n",
        "  X = np.array(X, dtype='float32')\n",
        "  y = np.array(y)\n",
        "\n",
        "  helpers.save_pickle([X,y], data_filename)\n",
        "\n",
        "  return [X,y]"
      ],
      "execution_count": null,
      "outputs": []
    },
    {
      "cell_type": "code",
      "metadata": {
        "id": "uoEsACI4qvNh"
      },
      "source": [
        "def get_vgg(output_size, optimizer, loss):\n",
        "  \n",
        "  # GET VGG16 MODEL WITH IMAGENET WEIGHTS, AND WITHOUT TOP LAYER\n",
        "  vgg = VGG16(weights=\"imagenet\", include_top=False, input_tensor=Input(shape=IMG_DIMS))\n",
        "\n",
        "  # FREEZE ALL LAYERS IN VGG\n",
        "  vgg.trainable = False\n",
        "\n",
        "  # FLATTEN MAX-POOL LAYER TO ALLOW DENSE TO CONNECT\n",
        "  flatten = vgg.output\n",
        "  flatten = Flatten()(flatten)\n",
        "\n",
        "  # ADD FULLY CONNECTED LAYERS TO ALLOW TRAINING\n",
        "  bboxHead = Dense(128)(flatten)\n",
        "  bboxHead = LeakyReLU()(bboxHead)\n",
        "  bboxHead = Dropout(0.2)(bboxHead)\n",
        "\n",
        "  bboxHead = Dense(32)(bboxHead)\n",
        "  bboxHead = LeakyReLU()(bboxHead)\n",
        "  bboxHead = Dropout(0.2)(bboxHead)\n",
        "\n",
        "  # FINAL OUTPUT LAYER WITH OUTPUT SIZE CORRESPONDING TO NUMBER OF OBJECTS\n",
        "  bboxHead = Dense(output_size, activation=\"sigmoid\")(bboxHead)\n",
        "\n",
        "  # CONSTRUCT MODEL WITH VGG INPUT AND SIGMOID OUTPUT\n",
        "  model = Model(inputs=vgg.input, outputs=bboxHead)\n",
        "\n",
        "  # COMPILE MODEL\n",
        "  model.compile(loss=loss, optimizer=optimizer, metrics=['accuracy'])\n",
        "\n",
        "  return model\n",
        "\n",
        "def get_custom(output_size, optimizer, loss):\n",
        "  model = Sequential()\n",
        "\n",
        "  model.add(Conv2D(16, (3,3), input_shape = IMG_DIMS, activation='relu'))\n",
        "  model.add(MaxPooling2D(pool_size=(2, 2)))\n",
        "  model.add(Dropout(0.2))\n",
        "\n",
        "  model.add(Conv2D(32, (3,3), activation='relu'))\n",
        "  model.add(MaxPooling2D(pool_size=(2, 2)))\n",
        "  model.add(Dropout(0.2))\n",
        "\n",
        "  model.add(Conv2D(64, (3,3), activation='relu' ))\n",
        "  model.add(MaxPooling2D(pool_size=(2, 2)))\n",
        "  model.add(Dropout(0.2))\n",
        "\n",
        "  model.add(Conv2D(128, (3,3), activation='relu'))\n",
        "  model.add(MaxPooling2D(pool_size=(2, 2)))\n",
        "  model.add(Dropout(0.2))\n",
        "\n",
        "  model.add(Conv2D(256, (3,3), activation='relu'))\n",
        "  model.add(MaxPooling2D(pool_size=(2, 2)))\n",
        "  model.add(Dropout(0.2))\n",
        "\n",
        "  model.add(Conv2D(512, (3,3), activation='relu'))\n",
        "  model.add(MaxPooling2D(pool_size=(2, 2)))\n",
        "  model.add(Dropout(0.2))\n",
        "\n",
        "  # model.add(Conv2D(1024, (3,3), activation='relu'))\n",
        "  # model.add(MaxPooling2D(pool_size=(2, 2)))\n",
        "  # model.add(Dropout(0.2))\n",
        "\n",
        "  model.add(Flatten())\n",
        "  model.add(Dropout(0.2))\n",
        "  model.add(Dense(64, activation='relu'))\n",
        "\n",
        "  model.add(Flatten())\n",
        "  model.add(Dropout(0.2))\n",
        "  model.add(Dense(16, activation='relu'))\n",
        "\n",
        "  model.add(Dropout(0.2))\n",
        "  model.add(Dense(output_size, activation='sigmoid'))\n",
        "\n",
        "  model.compile(loss=loss, optimizer=optimizer, metrics=['accuracy'])\n",
        "\n",
        "  return model\n",
        "\n",
        "def calculate_iou( target_boxes , pred_boxes ):\n",
        "    xA = K.maximum( target_boxes[ ... , 0], pred_boxes[ ... , 0] )\n",
        "    yA = K.maximum( target_boxes[ ... , 1], pred_boxes[ ... , 1] )\n",
        "    xB = K.minimum( target_boxes[ ... , 2], pred_boxes[ ... , 2] )\n",
        "    yB = K.minimum( target_boxes[ ... , 3], pred_boxes[ ... , 3] )\n",
        "    interArea = K.maximum( 0.0 , xB - xA ) * K.maximum( 0.0 , yB - yA )\n",
        "    boxAArea = (target_boxes[ ... , 2] - target_boxes[ ... , 0]) * (target_boxes[ ... , 3] - target_boxes[ ... , 1])\n",
        "    boxBArea = (pred_boxes[ ... , 2] - pred_boxes[ ... , 0]) * (pred_boxes[ ... , 3] - pred_boxes[ ... , 1])\n",
        "    iou = interArea / ( boxAArea + boxBArea - interArea )\n",
        "    return iou\n",
        "\n",
        "def custom_loss( y_true , y_pred ):\n",
        "    mse = tf.losses.mean_squared_error( y_true , y_pred ) \n",
        "    iou = calculate_iou( y_true , y_pred ) \n",
        "    return mse + ( 1 - iou )\n",
        "\n",
        "def iou_metric( y_true , y_pred ):\n",
        "    return calculate_iou( y_true , y_pred ) "
      ],
      "execution_count": null,
      "outputs": []
    },
    {
      "cell_type": "code",
      "metadata": {
        "colab": {
          "base_uri": "https://localhost:8080/"
        },
        "id": "7kfUjL6Lm2q2",
        "outputId": "7a48f14c-b1f7-4ee9-83d1-b310f904868c"
      },
      "source": [
        "[X, y] = get_data(\n",
        "  annotations_dirpath = '/content/car/annotations',\n",
        "  image_dirpath = '/content/car/images',\n",
        "  objects = OBJECTS,\n",
        "  generate_new = True,\n",
        "  data_filename = '/content/drive/MyDrive/Datasets/license-plate-detection/car.pkl'\n",
        ")"
      ],
      "execution_count": null,
      "outputs": [
        {
          "output_type": "stream",
          "text": [
            "100%|██████████| 123/123 [00:00<00:00, 417.99it/s]\n"
          ],
          "name": "stderr"
        }
      ]
    },
    {
      "cell_type": "code",
      "metadata": {
        "colab": {
          "base_uri": "https://localhost:8080/",
          "height": 336
        },
        "id": "W-6A8VQxnc2e",
        "outputId": "297f3375-240d-47e3-e539-8cb7930a2dfb"
      },
      "source": [
        "index = 1\n",
        "test_image, test_output = X[index], y[index]\n",
        "helpers.display_boxes(test_image, test_output)\n",
        "\n",
        "print(test_output)\n",
        "\n",
        "print(X.shape)\n",
        "print(y.shape)"
      ],
      "execution_count": null,
      "outputs": [
        {
          "output_type": "stream",
          "text": [
            "\n",
            "[0.78333333 0.59666667 0.07666667 0.37333333]\n",
            "(246, 224, 224, 3)\n",
            "(246, 4)\n"
          ],
          "name": "stdout"
        },
        {
          "output_type": "display_data",
          "data": {
            "image/png": "[encoded data removed]",
            "text/plain": [
              "<Figure size 432x288 with 1 Axes>"
            ]
          },
          "metadata": {
            "tags": [],
            "needs_background": "light"
          }
        }
      ]
    },
    {
      "cell_type": "code",
      "metadata": {
        "colab": {
          "base_uri": "https://localhost:8080/"
        },
        "id": "wrMVAAO8JiPN",
        "outputId": "55dc6cbe-d375-4d44-84be-a4e4ab7638d3"
      },
      "source": [
        "print(y[4])"
      ],
      "execution_count": null,
      "outputs": [
        {
          "output_type": "stream",
          "text": [
            "[0.24691358 0.73045267 0.2037037  0.05658436]\n"
          ],
          "name": "stdout"
        }
      ]
    },
    {
      "cell_type": "code",
      "metadata": {
        "colab": {
          "base_uri": "https://localhost:8080/"
        },
        "id": "-66OjZvkpMFv",
        "outputId": "463cbe04-26cf-4b41-de22-f589f9473908"
      },
      "source": [
        "model = get_vgg(\n",
        "  output_size=len(OBJECTS)*4, \n",
        "  optimizer='adam',\n",
        "  loss='mse'\n",
        ")\n",
        "model.summary()"
      ],
      "execution_count": null,
      "outputs": [
        {
          "output_type": "stream",
          "text": [
            "Model: \"model_4\"\n",
            "_________________________________________________________________\n",
            "Layer (type)                 Output Shape              Param #   \n",
            "=================================================================\n",
            "input_5 (InputLayer)         [(None, 224, 224, 3)]     0         \n",
            "_________________________________________________________________\n",
            "block1_conv1 (Conv2D)        (None, 224, 224, 64)      1792      \n",
            "_________________________________________________________________\n",
            "block1_conv2 (Conv2D)        (None, 224, 224, 64)      36928     \n",
            "_________________________________________________________________\n",
            "block1_pool (MaxPooling2D)   (None, 112, 112, 64)      0         \n",
            "_________________________________________________________________\n",
            "block2_conv1 (Conv2D)        (None, 112, 112, 128)     73856     \n",
            "_________________________________________________________________\n",
            "block2_conv2 (Conv2D)        (None, 112, 112, 128)     147584    \n",
            "_________________________________________________________________\n",
            "block2_pool (MaxPooling2D)   (None, 56, 56, 128)       0         \n",
            "_________________________________________________________________\n",
            "block3_conv1 (Conv2D)        (None, 56, 56, 256)       295168    \n",
            "_________________________________________________________________\n",
            "block3_conv2 (Conv2D)        (None, 56, 56, 256)       590080    \n",
            "_________________________________________________________________\n",
            "block3_conv3 (Conv2D)        (None, 56, 56, 256)       590080    \n",
            "_________________________________________________________________\n",
            "block3_pool (MaxPooling2D)   (None, 28, 28, 256)       0         \n",
            "_________________________________________________________________\n",
            "block4_conv1 (Conv2D)        (None, 28, 28, 512)       1180160   \n",
            "_________________________________________________________________\n",
            "block4_conv2 (Conv2D)        (None, 28, 28, 512)       2359808   \n",
            "_________________________________________________________________\n",
            "block4_conv3 (Conv2D)        (None, 28, 28, 512)       2359808   \n",
            "_________________________________________________________________\n",
            "block4_pool (MaxPooling2D)   (None, 14, 14, 512)       0         \n",
            "_________________________________________________________________\n",
            "block5_conv1 (Conv2D)        (None, 14, 14, 512)       2359808   \n",
            "_________________________________________________________________\n",
            "block5_conv2 (Conv2D)        (None, 14, 14, 512)       2359808   \n",
            "_________________________________________________________________\n",
            "block5_conv3 (Conv2D)        (None, 14, 14, 512)       2359808   \n",
            "_________________________________________________________________\n",
            "block5_pool (MaxPooling2D)   (None, 7, 7, 512)         0         \n",
            "_________________________________________________________________\n",
            "flatten_6 (Flatten)          (None, 25088)             0         \n",
            "_________________________________________________________________\n",
            "dense_15 (Dense)             (None, 128)               3211392   \n",
            "_________________________________________________________________\n",
            "leaky_re_lu_8 (LeakyReLU)    (None, 128)               0         \n",
            "_________________________________________________________________\n",
            "dropout_17 (Dropout)         (None, 128)               0         \n",
            "_________________________________________________________________\n",
            "dense_16 (Dense)             (None, 32)                4128      \n",
            "_________________________________________________________________\n",
            "leaky_re_lu_9 (LeakyReLU)    (None, 32)                0         \n",
            "_________________________________________________________________\n",
            "dropout_18 (Dropout)         (None, 32)                0         \n",
            "_________________________________________________________________\n",
            "dense_17 (Dense)             (None, 4)                 132       \n",
            "=================================================================\n",
            "Total params: 17,930,340\n",
            "Trainable params: 3,215,652\n",
            "Non-trainable params: 14,714,688\n",
            "_________________________________________________________________\n"
          ],
          "name": "stdout"
        }
      ]
    },
    {
      "cell_type": "code",
      "metadata": {
        "id": "t8ygOQYMshX5"
      },
      "source": [
        "X = preprocess_input(X) "
      ],
      "execution_count": null,
      "outputs": []
    },
    {
      "cell_type": "code",
      "metadata": {
        "colab": {
          "base_uri": "https://localhost:8080/"
        },
        "id": "QuEXhYMoIcwa",
        "outputId": "41130810-a3ee-4ee4-ac87-1237e370f124"
      },
      "source": [
        "model.fit(X, y, batch_size=64, epochs=15, validation_split=0.1)"
      ],
      "execution_count": null,
      "outputs": [
        {
          "output_type": "stream",
          "text": [
            "Epoch 1/15\n",
            "4/4 [==============================] - 1s 243ms/step - loss: 0.2222 - accuracy: 0.5872 - val_loss: 0.1027 - val_accuracy: 1.0000\n",
            "Epoch 2/15\n",
            "4/4 [==============================] - 1s 139ms/step - loss: 0.1024 - accuracy: 0.9953 - val_loss: 0.1027 - val_accuracy: 1.0000\n",
            "Epoch 3/15\n",
            "4/4 [==============================] - 1s 136ms/step - loss: 0.1019 - accuracy: 0.9880 - val_loss: 0.1027 - val_accuracy: 1.0000\n",
            "Epoch 4/15\n",
            "4/4 [==============================] - 1s 134ms/step - loss: 0.1017 - accuracy: 0.9912 - val_loss: 0.1027 - val_accuracy: 1.0000\n",
            "Epoch 5/15\n",
            "4/4 [==============================] - 1s 133ms/step - loss: 0.1022 - accuracy: 0.9880 - val_loss: 0.1027 - val_accuracy: 1.0000\n",
            "Epoch 6/15\n",
            "4/4 [==============================] - 1s 135ms/step - loss: 0.1084 - accuracy: 0.9964 - val_loss: 0.1027 - val_accuracy: 1.0000\n",
            "Epoch 7/15\n",
            "4/4 [==============================] - 1s 135ms/step - loss: 0.1016 - accuracy: 0.9943 - val_loss: 0.1027 - val_accuracy: 1.0000\n",
            "Epoch 8/15\n",
            "4/4 [==============================] - 1s 133ms/step - loss: 0.1012 - accuracy: 0.9953 - val_loss: 0.1027 - val_accuracy: 1.0000\n",
            "Epoch 9/15\n",
            "4/4 [==============================] - 1s 136ms/step - loss: 0.1017 - accuracy: 0.9849 - val_loss: 0.1027 - val_accuracy: 1.0000\n",
            "Epoch 10/15\n",
            "4/4 [==============================] - 1s 132ms/step - loss: 0.1010 - accuracy: 0.9849 - val_loss: 0.1027 - val_accuracy: 1.0000\n",
            "Epoch 11/15\n",
            "4/4 [==============================] - 1s 133ms/step - loss: 0.1006 - accuracy: 0.9953 - val_loss: 0.1027 - val_accuracy: 1.0000\n",
            "Epoch 12/15\n",
            "4/4 [==============================] - 1s 133ms/step - loss: 0.1013 - accuracy: 0.9907 - val_loss: 0.1027 - val_accuracy: 1.0000\n",
            "Epoch 13/15\n",
            "4/4 [==============================] - 1s 137ms/step - loss: 0.1012 - accuracy: 0.9880 - val_loss: 0.1027 - val_accuracy: 1.0000\n",
            "Epoch 14/15\n",
            "4/4 [==============================] - 1s 130ms/step - loss: 0.1021 - accuracy: 0.9896 - val_loss: 0.1027 - val_accuracy: 1.0000\n",
            "Epoch 15/15\n",
            "4/4 [==============================] - 1s 131ms/step - loss: 0.1011 - accuracy: 0.9943 - val_loss: 0.1027 - val_accuracy: 1.0000\n"
          ],
          "name": "stdout"
        },
        {
          "output_type": "execute_result",
          "data": {
            "text/plain": [
              "<tensorflow.python.keras.callbacks.History at 0x7fc1126d3710>"
            ]
          },
          "metadata": {
            "tags": []
          },
          "execution_count": 57
        }
      ]
    },
    {
      "cell_type": "code",
      "metadata": {
        "id": "rW8TY2lHfQet"
      },
      "source": [
        "TEST_DIR = os.path.join(ROOT_DIR, 'test_images')\n",
        "X_test = []\n",
        "\n",
        "for filename in os.listdir(TEST_DIR):\n",
        "  filepath = os.path.join(TEST_DIR, filename)\n",
        "\n",
        "  image = load_img(filepath, target_size=IMG_DIMS[:2])\n",
        "  test_image = img_to_array(image)\n",
        "  X_test.append(test_image)\n",
        "\n",
        "X_test = np.array(X_test, dtype='float32')\n",
        "X_test_pred = preprocess_input(X_test)\n",
        "y_test = model.predict(X_test)"
      ],
      "execution_count": null,
      "outputs": []
    },
    {
      "cell_type": "code",
      "metadata": {
        "colab": {
          "base_uri": "https://localhost:8080/"
        },
        "id": "NjfAQYT0tBYE",
        "outputId": "e28f9c17-759a-411a-8d36-219731f94e22"
      },
      "source": [
        "print(y_test)"
      ],
      "execution_count": null,
      "outputs": [
        {
          "output_type": "stream",
          "text": [
            "[[1. 1. 0. 0.]\n",
            " [1. 1. 0. 0.]\n",
            " [1. 1. 0. 0.]\n",
            " [1. 1. 0. 0.]\n",
            " [1. 1. 0. 0.]\n",
            " [1. 1. 0. 0.]\n",
            " [1. 1. 0. 0.]]\n"
          ],
          "name": "stdout"
        }
      ]
    },
    {
      "cell_type": "code",
      "metadata": {
        "colab": {
          "base_uri": "https://localhost:8080/",
          "height": 258
        },
        "id": "j6RYuKVGtu9n",
        "outputId": "0aa95078-77a2-4bd8-a0c1-94ab74a8707a"
      },
      "source": [
        "index = 6\n",
        "helpers.display_boxes(X_test[index], y_test[index])"
      ],
      "execution_count": null,
      "outputs": [
        {
          "output_type": "display_data",
          "data": {
            "image/png": "[encoded data removed]",
            "text/plain": [
              "<PIL.Image.Image image mode=RGB size=224x224 at 0x7FF25AEB5A58>"
            ]
          },
          "metadata": {
            "tags": []
          }
        },
        {
          "output_type": "stream",
          "text": [
            "\n"
          ],
          "name": "stdout"
        }
      ]
    },
    {
      "cell_type": "code",
      "metadata": {
        "id": "4l8S-Xbgz1qO"
      },
      "source": [
        "d = model.layers[-1]"
      ],
      "execution_count": null,
      "outputs": []
    },
    {
      "cell_type": "code",
      "metadata": {
        "id": "y_GnmL8k5W6V"
      },
      "source": [
        "d."
      ],
      "execution_count": null,
      "outputs": []
    }
  ]
}